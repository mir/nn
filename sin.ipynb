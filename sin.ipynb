{
 "cells": [
  {
   "cell_type": "code",
   "execution_count": 14,
   "metadata": {},
   "outputs": [],
   "source": [
    "import data_generator as dg\n",
    "import torch\n",
    "import matplotlib.pyplot as plt\n",
    "from torch.utils.data import DataLoader\n",
    "import torch.nn as nn\n",
    "import torch.nn.functional as F\n",
    "import numpy as np\n",
    "import os\n",
    "from sin_dataset import SinDataset\n",
    "\n",
    "os.environ['KMP_DUPLICATE_LIB_OK']='True'"
   ]
  },
  {
   "cell_type": "markdown",
   "metadata": {},
   "source": [
    "Hyperparameters"
   ]
  },
  {
   "cell_type": "code",
   "execution_count": 15,
   "metadata": {},
   "outputs": [],
   "source": [
    "input_size = 256\n",
    "hidden_channels = 3\n",
    "dataset_size = 8196*8\n",
    "batch_size = 256\n",
    "num_classes = 3\n",
    "epochs = 10\n",
    "start_learning_rate = 0.1"
   ]
  },
  {
   "cell_type": "markdown",
   "metadata": {},
   "source": [
    "Neural network strucure and models"
   ]
  },
  {
   "cell_type": "code",
   "execution_count": 16,
   "metadata": {},
   "outputs": [],
   "source": [
    "class SinModel(nn.Module):\n",
    "    def __init__(self):\n",
    "        super().__init__()\n",
    "\n",
    "        self.network = nn.Sequential(\n",
    "            nn.Conv1d(1, hidden_channels,\n",
    "             kernel_size=5, padding=2),\n",
    "            nn.ReLU(),\n",
    "            nn.Conv1d(hidden_channels, 1,\n",
    "             kernel_size=5, stride=1, padding=2),\n",
    "            nn.ReLU(),\n",
    "            nn.Flatten(),\n",
    "            nn.Linear(input_size, num_classes))            \n",
    "        \n",
    "    def forward(self, xb):\n",
    "        out = self.network(xb)        \n",
    "        return out\n",
    "    \n",
    "    def training_step(self, batch):\n",
    "        data, labels = batch \n",
    "        out = self(data)                  # Generate predictions\n",
    "        loss_fn = nn.MSELoss()\n",
    "        return loss_fn(out,labels)\n",
    "    \n",
    "    def validation_step(self, batch):\n",
    "        data, labels = batch \n",
    "        out = self(data)            \n",
    "        loss_fn = nn.MSELoss()        # Generate predictions\n",
    "        loss = loss_fn(out,labels)              \n",
    "        acc = accuracy(out,labels)         \n",
    "        return {'val_loss': loss, 'val_acc': acc}\n",
    "        \n",
    "    def validation_epoch_end(self, outputs):\n",
    "        batch_losses = [x['val_loss'] for x in outputs]\n",
    "        epoch_loss = torch.stack(batch_losses).mean()   # Combine losses    \n",
    "\n",
    "        batch_acc = [x['val_acc'] for x in outputs]\n",
    "        epoch_acc, _ = torch.max(torch.stack(batch_acc), dim = 0)   # Combine acc        \n",
    "        return {'val_loss': epoch_loss.item(),'val_acc': epoch_acc.tolist()}\n",
    "\n",
    "    def epoch_end(self, epoch, result):\n",
    "        print(\"Epoch [{}], val_loss: {:.4f}\".format(epoch, result['val_loss']))\n",
    "        print(\"Max differences:\")\n",
    "        print(\"    amplitude: {:.4f}, frequency: {:.4f},phase: {:.4f},\".format(result['val_acc'][0],\n",
    "         result['val_acc'][1],\n",
    "         result['val_acc'][2],\n",
    "         ))"
   ]
  },
  {
   "cell_type": "markdown",
   "metadata": {},
   "source": [
    "Function to output max-difference in Amplitude, Frequency, and Phase"
   ]
  },
  {
   "cell_type": "code",
   "execution_count": 17,
   "metadata": {},
   "outputs": [],
   "source": [
    "def accuracy(output,labels):\n",
    "    diff = torch.abs(output - labels)  \n",
    "    maxes, indexes = torch.max(diff, dim = 0)  \n",
    "    return maxes"
   ]
  },
  {
   "cell_type": "markdown",
   "metadata": {},
   "source": [
    "Some functions to run training of NN"
   ]
  },
  {
   "cell_type": "code",
   "execution_count": 18,
   "metadata": {},
   "outputs": [],
   "source": [
    "def evaluate(model, val_set):\n",
    "    \"\"\"Evaluate the model's performance on the validation set\"\"\"\n",
    "    outputs = [model.validation_step(batch) for batch in val_set]\n",
    "    return model.validation_epoch_end(outputs)\n",
    "\n",
    "def fit(epochs, start_learning_rate, model, train_set, val_set, opt_func=torch.optim.Adam):\n",
    "    \"\"\"Train the model using gradient descent\"\"\"\n",
    "    losses = []\n",
    "    history = []\n",
    "    lr = start_learning_rate    \n",
    "    for epoch in range(epochs):\n",
    "        # Training Phase \n",
    "        optimizer = opt_func(model.parameters(), lr)\n",
    "        for batch in train_set:\n",
    "            loss = model.training_step(batch)\n",
    "            loss.backward()\n",
    "            optimizer.step()\n",
    "            optimizer.zero_grad()\n",
    "            losses.append(loss.item())\n",
    "        # Validation phase\n",
    "        result = evaluate(model, val_set)\n",
    "        model.epoch_end(epoch, result)\n",
    "        history.append(result)\n",
    "        lr = lr * 0.5;\n",
    "\n",
    "    return losses, history"
   ]
  },
  {
   "cell_type": "markdown",
   "metadata": {},
   "source": [
    "Generate data"
   ]
  },
  {
   "cell_type": "code",
   "execution_count": 19,
   "metadata": {},
   "outputs": [],
   "source": [
    "train_set = SinDataset(size = dataset_size,\n",
    " samples = input_size,\n",
    " batch_size = batch_size)\n",
    "val_set = SinDataset(size = dataset_size,\n",
    " samples = input_size,\n",
    " batch_size = batch_size)"
   ]
  },
  {
   "cell_type": "markdown",
   "metadata": {},
   "source": [
    "Plot first two batches of train data and labels"
   ]
  },
  {
   "cell_type": "code",
   "execution_count": 20,
   "metadata": {},
   "outputs": [
    {
     "name": "stdout",
     "output_type": "stream",
     "text": [
      "torch.Size([256, 1, 256])\n"
     ]
    },
    {
     "data": {
      "image/png": "[encoded data removed]",
      "text/plain": [
       "<Figure size 432x288 with 1 Axes>"
      ]
     },
     "metadata": {
      "needs_background": "light"
     },
     "output_type": "display_data"
    }
   ],
   "source": [
    "for data,labels in train_set:    \n",
    "    print(data.shape)\n",
    "    plt.plot(data[0,0,:])\n",
    "    plt.plot(data[1,0,:])\n",
    "    plt.plot(data[2,0,:])\n",
    "    plt.show()\n",
    "    break"
   ]
  },
  {
   "cell_type": "markdown",
   "metadata": {},
   "source": [
    "Run network training"
   ]
  },
  {
   "cell_type": "code",
   "execution_count": 22,
   "metadata": {},
   "outputs": [
    {
     "name": "stdout",
     "output_type": "stream",
     "text": [
      "Epoch [0], val_loss: 2.8152\n",
      "Max differences:\n",
      "    amplitude: 0.2062, frequency: 5.1876,phase: 0.5037,\n",
      "Epoch [1], val_loss: 2.9359\n",
      "Max differences:\n",
      "    amplitude: 0.2137, frequency: 5.6049,phase: 0.5581,\n",
      "Epoch [2], val_loss: 2.9598\n",
      "Max differences:\n",
      "    amplitude: 0.2059, frequency: 5.6610,phase: 0.5618,\n",
      "Epoch [3], val_loss: 2.9279\n",
      "Max differences:\n",
      "    amplitude: 0.2160, frequency: 5.5862,phase: 0.5414,\n",
      "Epoch [4], val_loss: 2.8743\n",
      "Max differences:\n",
      "    amplitude: 0.2060, frequency: 5.4286,phase: 0.5690,\n",
      "Epoch [5], val_loss: 2.8164\n",
      "Max differences:\n",
      "    amplitude: 0.2025, frequency: 5.1177,phase: 0.5118,\n",
      "Epoch [6], val_loss: 2.8139\n",
      "Max differences:\n",
      "    amplitude: 0.2082, frequency: 5.0688,phase: 0.5386,\n",
      "Epoch [7], val_loss: 2.8181\n",
      "Max differences:\n",
      "    amplitude: 0.2064, frequency: 5.1385,phase: 0.5054,\n",
      "Epoch [8], val_loss: 2.8180\n",
      "Max differences:\n",
      "    amplitude: 0.2060, frequency: 5.1376,phase: 0.5013,\n",
      "Epoch [9], val_loss: 2.8129\n",
      "Max differences:\n",
      "    amplitude: 0.2042, frequency: 5.0574,phase: 0.5064,\n"
     ]
    },
    {
     "data": {
      "image/png": "[encoded data removed]",
      "text/plain": [
       "<Figure size 432x288 with 1 Axes>"
      ]
     },
     "metadata": {
      "needs_background": "light"
     },
     "output_type": "display_data"
    }
   ],
   "source": [
    "model = SinModel()\n",
    "losses, history = fit(epochs,\n",
    " start_learning_rate,\n",
    "  model, train_set, val_set)\n",
    "plt.plot(losses)\n",
    "plt.show()"
   ]
  },
  {
   "cell_type": "code",
   "execution_count": null,
   "metadata": {},
   "outputs": [],
   "source": []
  }
 ],
 "metadata": {
  "kernelspec": {
   "display_name": "Python 3",
   "language": "python",
   "name": "python3"
  },
  "language_info": {
   "codemirror_mode": {
    "name": "ipython",
    "version": 3
   },
   "file_extension": ".py",
   "mimetype": "text/x-python",
   "name": "python",
   "nbconvert_exporter": "python",
   "pygments_lexer": "ipython3",
   "version": "3.8.3"
  }
 },
 "nbformat": 4,
 "nbformat_minor": 4
}
